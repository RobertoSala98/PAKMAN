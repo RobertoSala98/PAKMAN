{
 "cells": [
  {
   "cell_type": "code",
   "execution_count": 12,
   "id": "f6ef9f62-c660-432c-a9cd-58a846546ecf",
   "metadata": {},
   "outputs": [],
   "source": [
    "import pandas as pd\n",
    "from matplotlib import pyplot as plt"
   ]
  },
  {
   "cell_type": "code",
   "execution_count": 22,
   "id": "a9752358-4059-4ff7-9b24-d298436775a4",
   "metadata": {},
   "outputs": [],
   "source": [
    "files = [\n",
    "    '../examples/simplified_runs/LiGen_2023-08-05_1226.json',\n",
    "    '../examples/simplified_runs/Query26_2023-08-05_1125.json',\n",
    "]"
   ]
  },
  {
   "cell_type": "code",
   "execution_count": 23,
   "id": "2a7d9dc2-f215-402d-a3e2-9a1935749c0e",
   "metadata": {},
   "outputs": [],
   "source": [
    "dfs = []\n",
    "for filename in files:\n",
    "    df = pd.read_json(filename, orient='records')\n",
    "    df = df.set_index('iteration')\n",
    "    if 'simplified_runs' in filename:\n",
    "        df['algorithm'] = 'q-KG'\n",
    "    else:\n",
    "        df['algorithm'] = 'MALIBOO'\n",
    "    dfs.append(df)"
   ]
  },
  {
   "cell_type": "code",
   "execution_count": 24,
   "id": "0b6885fe-45d8-4473-b4c0-8f365ce96c04",
   "metadata": {},
   "outputs": [
    {
     "data": {
      "text/html": [
       "<div>\n",
       "<style scoped>\n",
       "    .dataframe tbody tr th:only-of-type {\n",
       "        vertical-align: middle;\n",
       "    }\n",
       "\n",
       "    .dataframe tbody tr th {\n",
       "        vertical-align: top;\n",
       "    }\n",
       "\n",
       "    .dataframe thead th {\n",
       "        text-align: right;\n",
       "    }\n",
       "</style>\n",
       "<table border=\"1\" class=\"dataframe\">\n",
       "  <thead>\n",
       "    <tr style=\"text-align: right;\">\n",
       "      <th></th>\n",
       "      <th>n_initial_points</th>\n",
       "      <th>q</th>\n",
       "      <th>computed_cost</th>\n",
       "      <th>n_evaluations</th>\n",
       "      <th>error</th>\n",
       "    </tr>\n",
       "  </thead>\n",
       "  <tbody>\n",
       "    <tr>\n",
       "      <th>count</th>\n",
       "      <td>4.0</td>\n",
       "      <td>4.0</td>\n",
       "      <td>4.000000e+00</td>\n",
       "      <td>4.000000</td>\n",
       "      <td>4.000000</td>\n",
       "    </tr>\n",
       "    <tr>\n",
       "      <th>mean</th>\n",
       "      <td>3.0</td>\n",
       "      <td>3.0</td>\n",
       "      <td>1.227174e+06</td>\n",
       "      <td>10.500000</td>\n",
       "      <td>516764.825000</td>\n",
       "    </tr>\n",
       "    <tr>\n",
       "      <th>std</th>\n",
       "      <td>0.0</td>\n",
       "      <td>0.0</td>\n",
       "      <td>3.515537e+05</td>\n",
       "      <td>3.872983</td>\n",
       "      <td>351553.725373</td>\n",
       "    </tr>\n",
       "    <tr>\n",
       "      <th>min</th>\n",
       "      <td>3.0</td>\n",
       "      <td>3.0</td>\n",
       "      <td>7.104096e+05</td>\n",
       "      <td>6.000000</td>\n",
       "      <td>0.000000</td>\n",
       "    </tr>\n",
       "    <tr>\n",
       "      <th>25%</th>\n",
       "      <td>3.0</td>\n",
       "      <td>3.0</td>\n",
       "      <td>1.152906e+06</td>\n",
       "      <td>8.250000</td>\n",
       "      <td>442496.175000</td>\n",
       "    </tr>\n",
       "    <tr>\n",
       "      <th>50%</th>\n",
       "      <td>3.0</td>\n",
       "      <td>3.0</td>\n",
       "      <td>1.374673e+06</td>\n",
       "      <td>10.500000</td>\n",
       "      <td>664263.550000</td>\n",
       "    </tr>\n",
       "    <tr>\n",
       "      <th>75%</th>\n",
       "      <td>3.0</td>\n",
       "      <td>3.0</td>\n",
       "      <td>1.448942e+06</td>\n",
       "      <td>12.750000</td>\n",
       "      <td>738532.200000</td>\n",
       "    </tr>\n",
       "    <tr>\n",
       "      <th>max</th>\n",
       "      <td>3.0</td>\n",
       "      <td>3.0</td>\n",
       "      <td>1.448942e+06</td>\n",
       "      <td>15.000000</td>\n",
       "      <td>738532.200000</td>\n",
       "    </tr>\n",
       "  </tbody>\n",
       "</table>\n",
       "</div>"
      ],
      "text/plain": [
       "       n_initial_points    q  computed_cost  n_evaluations          error\n",
       "count               4.0  4.0   4.000000e+00       4.000000       4.000000\n",
       "mean                3.0  3.0   1.227174e+06      10.500000  516764.825000\n",
       "std                 0.0  0.0   3.515537e+05       3.872983  351553.725373\n",
       "min                 3.0  3.0   7.104096e+05       6.000000       0.000000\n",
       "25%                 3.0  3.0   1.152906e+06       8.250000  442496.175000\n",
       "50%                 3.0  3.0   1.374673e+06      10.500000  664263.550000\n",
       "75%                 3.0  3.0   1.448942e+06      12.750000  738532.200000\n",
       "max                 3.0  3.0   1.448942e+06      15.000000  738532.200000"
      ]
     },
     "execution_count": 24,
     "metadata": {},
     "output_type": "execute_result"
    }
   ],
   "source": [
    "df.describe()"
   ]
  },
  {
   "cell_type": "code",
   "execution_count": 25,
   "id": "a4af8fd2-0de6-4590-8af5-652b39604b77",
   "metadata": {},
   "outputs": [
    {
     "data": {
      "text/html": [
       "<div>\n",
       "<style scoped>\n",
       "    .dataframe tbody tr th:only-of-type {\n",
       "        vertical-align: middle;\n",
       "    }\n",
       "\n",
       "    .dataframe tbody tr th {\n",
       "        vertical-align: top;\n",
       "    }\n",
       "\n",
       "    .dataframe thead th {\n",
       "        text-align: right;\n",
       "    }\n",
       "</style>\n",
       "<table border=\"1\" class=\"dataframe\">\n",
       "  <thead>\n",
       "    <tr style=\"text-align: right;\">\n",
       "      <th></th>\n",
       "      <th>n_initial_points</th>\n",
       "      <th>q</th>\n",
       "      <th>target</th>\n",
       "      <th>suggested_minimum</th>\n",
       "      <th>closest_point_in_domain</th>\n",
       "      <th>computed_cost</th>\n",
       "      <th>n_evaluations</th>\n",
       "      <th>error</th>\n",
       "      <th>algorithm</th>\n",
       "    </tr>\n",
       "    <tr>\n",
       "      <th>iteration</th>\n",
       "      <th></th>\n",
       "      <th></th>\n",
       "      <th></th>\n",
       "      <th></th>\n",
       "      <th></th>\n",
       "      <th></th>\n",
       "      <th></th>\n",
       "      <th></th>\n",
       "      <th></th>\n",
       "    </tr>\n",
       "  </thead>\n",
       "  <tbody>\n",
       "    <tr>\n",
       "      <th>0</th>\n",
       "      <td>3</td>\n",
       "      <td>3</td>\n",
       "      <td>Query26</td>\n",
       "      <td>[5.613959383428281, 4.408443545370475]</td>\n",
       "      <td>[6.0, 4.0]</td>\n",
       "      <td>1448941.8</td>\n",
       "      <td>6</td>\n",
       "      <td>738532.2</td>\n",
       "      <td>q-KG</td>\n",
       "    </tr>\n",
       "    <tr>\n",
       "      <th>1</th>\n",
       "      <td>3</td>\n",
       "      <td>3</td>\n",
       "      <td>Query26</td>\n",
       "      <td>[5.541219770792049, 3.4424481282028863]</td>\n",
       "      <td>[6.0, 4.0]</td>\n",
       "      <td>1448941.8</td>\n",
       "      <td>9</td>\n",
       "      <td>738532.2</td>\n",
       "      <td>q-KG</td>\n",
       "    </tr>\n",
       "    <tr>\n",
       "      <th>2</th>\n",
       "      <td>3</td>\n",
       "      <td>3</td>\n",
       "      <td>Query26</td>\n",
       "      <td>[5.390520675186204, 3.707816458153091]</td>\n",
       "      <td>[5.0, 4.0]</td>\n",
       "      <td>1300404.5</td>\n",
       "      <td>12</td>\n",
       "      <td>589994.9</td>\n",
       "      <td>q-KG</td>\n",
       "    </tr>\n",
       "    <tr>\n",
       "      <th>3</th>\n",
       "      <td>3</td>\n",
       "      <td>3</td>\n",
       "      <td>Query26</td>\n",
       "      <td>[3.3350235386067, 8.528272693107002]</td>\n",
       "      <td>[3.0, 9.0]</td>\n",
       "      <td>710409.6</td>\n",
       "      <td>15</td>\n",
       "      <td>0.0</td>\n",
       "      <td>q-KG</td>\n",
       "    </tr>\n",
       "  </tbody>\n",
       "</table>\n",
       "</div>"
      ],
      "text/plain": [
       "           n_initial_points  q   target  \\\n",
       "iteration                                 \n",
       "0                         3  3  Query26   \n",
       "1                         3  3  Query26   \n",
       "2                         3  3  Query26   \n",
       "3                         3  3  Query26   \n",
       "\n",
       "                                 suggested_minimum closest_point_in_domain  \\\n",
       "iteration                                                                    \n",
       "0           [5.613959383428281, 4.408443545370475]              [6.0, 4.0]   \n",
       "1          [5.541219770792049, 3.4424481282028863]              [6.0, 4.0]   \n",
       "2           [5.390520675186204, 3.707816458153091]              [5.0, 4.0]   \n",
       "3             [3.3350235386067, 8.528272693107002]              [3.0, 9.0]   \n",
       "\n",
       "           computed_cost  n_evaluations     error algorithm  \n",
       "iteration                                                    \n",
       "0              1448941.8              6  738532.2      q-KG  \n",
       "1              1448941.8              9  738532.2      q-KG  \n",
       "2              1300404.5             12  589994.9      q-KG  \n",
       "3               710409.6             15       0.0      q-KG  "
      ]
     },
     "execution_count": 25,
     "metadata": {},
     "output_type": "execute_result"
    }
   ],
   "source": [
    "df.head()"
   ]
  },
  {
   "cell_type": "code",
   "execution_count": 42,
   "id": "9c8d8915-c41e-492e-9fce-840bc2b2e927",
   "metadata": {},
   "outputs": [
    {
     "data": {
      "text/plain": [
       "Text(0.5, 1.0, 'Error Comparison')"
      ]
     },
     "execution_count": 42,
     "metadata": {},
     "output_type": "execute_result"
    },
    {
     "data": {
      "image/png": "[encoded data removed]",
      "text/plain": [
       "<Figure size 640x480 with 1 Axes>"
      ]
     },
     "metadata": {},
     "output_type": "display_data"
    }
   ],
   "source": [
    "for df in dfs:\n",
    "    algo = df['algorithm'].unique()[0]\n",
    "    target_dataset = df['target'].unique()[0]\n",
    "    q = df['q'].unique()[0]\n",
    "    plt.plot(df['n_evaluations'], df['error'], label=f'{algo.replace(\"q\", str(q))} {target_dataset}')\n",
    "plt.legend()\n",
    "plt.xlabel('# evaluations')\n",
    "plt.ylabel('error')\n",
    "plt.title('Error Comparison')"
   ]
  },
  {
   "cell_type": "code",
   "execution_count": null,
   "id": "0147030a-8361-43c0-a023-cef1c05bd820",
   "metadata": {},
   "outputs": [],
   "source": [
    "for algorithm in ['q-KG', 'MALIBOO']:\n",
    "    "
   ]
  }
 ],
 "metadata": {
  "kernelspec": {
   "display_name": "Python 3.9 (d2)",
   "language": "python",
   "name": "d2"
  },
  "language_info": {
   "codemirror_mode": {
    "name": "ipython",
    "version": 3
   },
   "file_extension": ".py",
   "mimetype": "text/x-python",
   "name": "python",
   "nbconvert_exporter": "python",
   "pygments_lexer": "ipython3",
   "version": "3.9.16"
  }
 },
 "nbformat": 4,
 "nbformat_minor": 5
}
